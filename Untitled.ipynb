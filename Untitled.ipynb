{
 "cells": [
  {
   "cell_type": "code",
   "execution_count": 7,
   "id": "ae0fa809",
   "metadata": {},
   "outputs": [],
   "source": [
    "import os\t\t\t#导入模块\n",
    "path = 'C:/Users/user/Desktop/1/'\t#设置创建后文件夹存放的位置\n"
   ]
  },
  {
   "cell_type": "code",
   "execution_count": 13,
   "id": "b52b507c",
   "metadata": {},
   "outputs": [
    {
     "name": "stdout",
     "output_type": "stream",
     "text": [
      "Collecting python-docx\n",
      "  Downloading python-docx-0.8.11.tar.gz (5.6 MB)\n",
      "Requirement already satisfied: lxml>=2.3.2 in d:\\anaconda\\lib\\site-packages (from python-docx) (4.6.3)\n",
      "Building wheels for collected packages: python-docx\n",
      "  Building wheel for python-docx (setup.py): started\n",
      "  Building wheel for python-docx (setup.py): finished with status 'done'\n",
      "  Created wheel for python-docx: filename=python_docx-0.8.11-py3-none-any.whl size=184600 sha256=abc065c3fc5bdcf1013fc745ddf13d500827a5dc1f890141f5505cba4b2c99ec\n",
      "  Stored in directory: c:\\users\\user\\appdata\\local\\pip\\cache\\wheels\\32\\b8\\b2\\c4c2b95765e615fe139b0b17b5ea7c0e1b6519b0a9ec8fb34d\n",
      "Successfully built python-docx\n",
      "Installing collected packages: python-docx\n",
      "Successfully installed python-docx-0.8.11\n",
      "Note: you may need to restart the kernel to use updated packages.\n"
     ]
    }
   ],
   "source": [
    "pip install python-docx\n"
   ]
  },
  {
   "cell_type": "code",
   "execution_count": 15,
   "id": "3057938b",
   "metadata": {},
   "outputs": [],
   "source": [
    "import docx"
   ]
  },
  {
   "cell_type": "code",
   "execution_count": 18,
   "id": "823291d1",
   "metadata": {},
   "outputs": [],
   "source": [
    "doc = docx.Document()\n",
    "\n",
    "for i in z:\n",
    "    doc.save( 'C:/Users/user/Desktop/1/' +i+'.docx')"
   ]
  },
  {
   "cell_type": "code",
   "execution_count": 8,
   "id": "a5b20c48",
   "metadata": {},
   "outputs": [],
   "source": [
    "z=['企业法定代表人声明',\n",
    "'报送《企业年度工作报告》企业名单',\n",
    "'正文',\n",
    "'一、企业基本情况',\n",
    "'二、企业经营管理和改革发展情况',\n",
    "'三、企业内部控制体系情况及存在问题',\n",
    "'四、企业财务情况及存在问题',\n",
    "'五、企业投资运营管理情况及存在问题',\n",
    "'六、境外国有资产投资运营管理情况及存在问题',\n",
    "'七、企业党建和公司治理情况及存在问题',\n",
    "'八、企业内部监督体系情况及存在问题',\n",
    "'九、企业重点业务情况及存在问题',\n",
    "'十、企业经营管理和改革发展的其他情况',\n",
    "'附件',\n",
    "'附件一：企业基本情况表',\n",
    "'附件二：企业重大项目情况表',\n",
    "'附件三：境外单位及项目情况表',\n",
    "'附件四：违纪违法违规事项情况',\n",
    "'附件五：重大法律纠纷案件情况',\n",
    "'附件六：内部审计、社会审计及其他检查情况',\n",
    "'附件七：重要会议清单',\n",
    "'附件八：重要文件清单',\n",
    "'附件九：其他内容']"
   ]
  },
  {
   "cell_type": "code",
   "execution_count": 5,
   "id": "4ffb7381",
   "metadata": {},
   "outputs": [
    {
     "name": "stdout",
     "output_type": "stream",
     "text": [
      "企业法定代表人声明\n",
      "报送《企业年度工作报告》企业名单\n",
      "正文\n",
      "一、企业基本情况\n",
      "二、企业经营管理和改革发展情况\n",
      "三、企业内部控制体系情况及存在问题\n",
      "四、企业财务情况及存在问题\n",
      "五、企业投资运营管理情况及存在问题\n",
      "六、境外国有资产投资运营管理情况及存在问题\n",
      "七、企业党建和公司治理情况及存在问题\n",
      "八、企业内部监督体系情况及存在问题\n",
      "九、企业重点业务情况及存在问题\n",
      "十、企业经营管理和改革发展的其他情况\n",
      "附件\n",
      "附件一：企业基本情况表\n",
      "附件二：企业重大项目情况表\n",
      "附件三：境外单位及项目情况表\n",
      "附件四：违纪违法违规事项情况\n",
      "附件五：重大法律纠纷案件情况\n",
      "附件六：内部审计、社会审计及其他检查情况\n",
      "附件七：重要会议清单\n",
      "附件八：重要文件清单\n",
      "附件九：其他内容\n"
     ]
    }
   ],
   "source": [
    "for i in z:\n",
    "    print (i)\n",
    "    "
   ]
  },
  {
   "cell_type": "code",
   "execution_count": 9,
   "id": "b28b52b7",
   "metadata": {},
   "outputs": [],
   "source": [
    "for i in z:\n",
    "    os.makedirs(path+i)"
   ]
  },
  {
   "cell_type": "code",
   "execution_count": null,
   "id": "5a57f087",
   "metadata": {},
   "outputs": [],
   "source": [
    "\n",
    "for i in range(1,10):\t#1里创建10个文件夹\n",
    "\t# *定义一个变量判断文件是否存在,path指代路径,str(i)指代文件夹的名字*\n",
    "    isExists = os.path.exists(path+str(i))\n",
    "    if not isExists:\t\t\t\t\t\t#判断如果文件不存在,则创建\n",
    "        os.makedirs(path+'00'+str(i))\t\n",
    "        print(\"%s 目录创建成功\"%i)\n",
    "    else:\n",
    "        print(\"%s 目录已经存在\"%i)\t\n",
    "       "
   ]
  }
 ],
 "metadata": {
  "kernelspec": {
   "display_name": "Python 3",
   "language": "python",
   "name": "python3"
  },
  "language_info": {
   "codemirror_mode": {
    "name": "ipython",
    "version": 3
   },
   "file_extension": ".py",
   "mimetype": "text/x-python",
   "name": "python",
   "nbconvert_exporter": "python",
   "pygments_lexer": "ipython3",
   "version": "3.8.8"
  }
 },
 "nbformat": 4,
 "nbformat_minor": 5
}
