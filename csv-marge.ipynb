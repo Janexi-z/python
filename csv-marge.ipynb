{
 "cells": [
  {
   "cell_type": "code",
   "execution_count": 1,
   "id": "5b1bad82",
   "metadata": {},
   "outputs": [],
   "source": [
    "import pandas as pd"
   ]
  },
  {
   "cell_type": "code",
   "execution_count": 2,
   "id": "9bd1c2db",
   "metadata": {},
   "outputs": [],
   "source": [
    "import os\n",
    "\n",
    "dirname = r\"C:/Users/user/Downloads\"\n",
    "filename = \".xls\"\n",
    "\n",
    "result = []\n",
    "def search(dirname=dirname, filename=\"\"):\n",
    "    for item in os.listdir(dirname):\n",
    "        item_path = os.path.join(dirname, item)\n",
    "        if os.path.isdir(item_path):\n",
    "            search(item_path, filename)\n",
    "        elif os.path.isfile(item_path):\n",
    "            if filename in item:\n",
    "                global result\n",
    "                result.append(item_path)\n",
    "                #print(item_path+\";\")"
   ]
  },
  {
   "cell_type": "code",
   "execution_count": 3,
   "id": "feb8463c",
   "metadata": {},
   "outputs": [],
   "source": [
    "search(dirname, filename)"
   ]
  },
  {
   "cell_type": "code",
   "execution_count": 4,
   "id": "3e59be66",
   "metadata": {},
   "outputs": [
    {
     "name": "stdout",
     "output_type": "stream",
     "text": [
      "['C:/Users/user/Downloads\\\\中钢集团数据采集平台(诉讼及纠纷月报)诉讼案件报表 (1).xls', 'C:/Users/user/Downloads\\\\中钢集团数据采集平台(诉讼及纠纷月报)诉讼案件报表 (2).xls', 'C:/Users/user/Downloads\\\\中钢集团数据采集平台(诉讼及纠纷月报)诉讼案件报表 (3).xls', 'C:/Users/user/Downloads\\\\中钢集团数据采集平台(诉讼及纠纷月报)诉讼案件报表 (4).xls', 'C:/Users/user/Downloads\\\\中钢集团数据采集平台(诉讼及纠纷月报)诉讼案件报表 (5).xls', 'C:/Users/user/Downloads\\\\中钢集团数据采集平台(诉讼及纠纷月报)诉讼案件报表 (6).xls', 'C:/Users/user/Downloads\\\\中钢集团数据采集平台(诉讼及纠纷月报)诉讼案件报表 (7).xls', 'C:/Users/user/Downloads\\\\中钢集团数据采集平台(诉讼及纠纷月报)诉讼案件报表 (8).xls', 'C:/Users/user/Downloads\\\\中钢集团数据采集平台(诉讼及纠纷月报)诉讼案件报表.xls']\n"
     ]
    }
   ],
   "source": [
    "print(result)"
   ]
  },
  {
   "cell_type": "code",
   "execution_count": 5,
   "id": "f7c506ff",
   "metadata": {},
   "outputs": [],
   "source": [
    "li=[]\n",
    "for i in result:\n",
    "    li.append(pd.read_excel(i))\n",
    "writer = pd.ExcelWriter('C:/Users/user/Desktop/output.xlsx')\n",
    "pd.concat(li).to_excel(writer,'Sheet1',index=False)\n",
    "  \n",
    "writer.save()"
   ]
  },
  {
   "cell_type": "code",
   "execution_count": 6,
   "id": "a3b967e9",
   "metadata": {},
   "outputs": [],
   "source": [
    "x=pd.read_excel('C:/Users/user/Desktop/output.xlsx')"
   ]
  },
  {
   "cell_type": "code",
   "execution_count": 7,
   "id": "29559a58",
   "metadata": {},
   "outputs": [
    {
     "data": {
      "text/html": [
       "<div>\n",
       "<style scoped>\n",
       "    .dataframe tbody tr th:only-of-type {\n",
       "        vertical-align: middle;\n",
       "    }\n",
       "\n",
       "    .dataframe tbody tr th {\n",
       "        vertical-align: top;\n",
       "    }\n",
       "\n",
       "    .dataframe thead th {\n",
       "        text-align: right;\n",
       "    }\n",
       "</style>\n",
       "<table border=\"1\" class=\"dataframe\">\n",
       "  <thead>\n",
       "    <tr style=\"text-align: right;\">\n",
       "      <th></th>\n",
       "      <th>编号</th>\n",
       "      <th>是否初次上报</th>\n",
       "      <th>案件发生单位</th>\n",
       "      <th>案件类型</th>\n",
       "      <th>纠纷原因</th>\n",
       "      <th>涉案当事人</th>\n",
       "      <th>Unnamed: 6</th>\n",
       "      <th>Unnamed: 7</th>\n",
       "      <th>标的额</th>\n",
       "      <th>立案日期</th>\n",
       "      <th>...</th>\n",
       "      <th>律所</th>\n",
       "      <th>案件现状</th>\n",
       "      <th>案件阶段</th>\n",
       "      <th>最新进展（标的额一千万以上案件）</th>\n",
       "      <th>裁判日期</th>\n",
       "      <th>裁判文书</th>\n",
       "      <th>回款金额</th>\n",
       "      <th>付款金额</th>\n",
       "      <th>是否结案</th>\n",
       "      <th>填报单位</th>\n",
       "    </tr>\n",
       "  </thead>\n",
       "  <tbody>\n",
       "    <tr>\n",
       "      <th>0</th>\n",
       "      <td>NaN</td>\n",
       "      <td>NaN</td>\n",
       "      <td>NaN</td>\n",
       "      <td>NaN</td>\n",
       "      <td>NaN</td>\n",
       "      <td>原告</td>\n",
       "      <td>被告</td>\n",
       "      <td>第三人</td>\n",
       "      <td>NaN</td>\n",
       "      <td>NaN</td>\n",
       "      <td>...</td>\n",
       "      <td>NaN</td>\n",
       "      <td>NaN</td>\n",
       "      <td>NaN</td>\n",
       "      <td>NaN</td>\n",
       "      <td>NaN</td>\n",
       "      <td>NaN</td>\n",
       "      <td>NaN</td>\n",
       "      <td>NaN</td>\n",
       "      <td>NaN</td>\n",
       "      <td>NaN</td>\n",
       "    </tr>\n",
       "    <tr>\n",
       "      <th>1</th>\n",
       "      <td>1</td>\n",
       "      <td>否</td>\n",
       "      <td>中钢集团洛阳耐火材料研究院有限公司</td>\n",
       "      <td>买卖合同纠纷</td>\n",
       "      <td>2008年我院与该客户签订供货合同，总计发货28570685.45元，合同与2010年8月已...</td>\n",
       "      <td>中钢集团洛阳耐火材料研究院有限公司</td>\n",
       "      <td>青海黄河水电再生铝业有限公司</td>\n",
       "      <td>NaN</td>\n",
       "      <td>1852065.0</td>\n",
       "      <td>2015-6-7</td>\n",
       "      <td>...</td>\n",
       "      <td>NaN</td>\n",
       "      <td>案件胜诉</td>\n",
       "      <td>执行中</td>\n",
       "      <td>NaN</td>\n",
       "      <td>NaN</td>\n",
       "      <td>无附件</td>\n",
       "      <td>54079.0</td>\n",
       "      <td>0.0</td>\n",
       "      <td>否</td>\n",
       "      <td>中钢集团洛阳耐火材料研究院有限公司</td>\n",
       "    </tr>\n",
       "  </tbody>\n",
       "</table>\n",
       "<p>2 rows × 22 columns</p>\n",
       "</div>"
      ],
      "text/plain": [
       "    编号 是否初次上报             案件发生单位    案件类型  \\\n",
       "0  NaN    NaN                NaN     NaN   \n",
       "1    1      否  中钢集团洛阳耐火材料研究院有限公司  买卖合同纠纷   \n",
       "\n",
       "                                                纠纷原因              涉案当事人  \\\n",
       "0                                                NaN                 原告   \n",
       "1  2008年我院与该客户签订供货合同，总计发货28570685.45元，合同与2010年8月已...  中钢集团洛阳耐火材料研究院有限公司   \n",
       "\n",
       "       Unnamed: 6 Unnamed: 7        标的额      立案日期  ...   律所  案件现状 案件阶段  \\\n",
       "0              被告        第三人        NaN       NaN  ...  NaN   NaN  NaN   \n",
       "1  青海黄河水电再生铝业有限公司        NaN  1852065.0  2015-6-7  ...  NaN  案件胜诉  执行中   \n",
       "\n",
       "  最新进展（标的额一千万以上案件） 裁判日期 裁判文书     回款金额 付款金额  是否结案               填报单位  \n",
       "0              NaN  NaN  NaN      NaN  NaN   NaN                NaN  \n",
       "1              NaN  NaN  无附件  54079.0  0.0     否  中钢集团洛阳耐火材料研究院有限公司  \n",
       "\n",
       "[2 rows x 22 columns]"
      ]
     },
     "execution_count": 7,
     "metadata": {},
     "output_type": "execute_result"
    }
   ],
   "source": [
    "x.head(2)"
   ]
  },
  {
   "cell_type": "code",
   "execution_count": 8,
   "id": "848c05e7",
   "metadata": {},
   "outputs": [],
   "source": [
    "x = x.dropna(subset=[\"立案日期\"])  "
   ]
  },
  {
   "cell_type": "code",
   "execution_count": 9,
   "id": "39a93b71",
   "metadata": {},
   "outputs": [
    {
     "data": {
      "text/plain": [
       "dtype('O')"
      ]
     },
     "execution_count": 9,
     "metadata": {},
     "output_type": "execute_result"
    }
   ],
   "source": [
    "x['立案日期'].dtype"
   ]
  },
  {
   "cell_type": "code",
   "execution_count": 10,
   "id": "14d3de19",
   "metadata": {},
   "outputs": [
    {
     "data": {
      "text/plain": [
       "编号                   object\n",
       "是否初次上报               object\n",
       "案件发生单位               object\n",
       "案件类型                 object\n",
       "纠纷原因                 object\n",
       "涉案当事人                object\n",
       "Unnamed: 6           object\n",
       "Unnamed: 7           object\n",
       "标的额                 float64\n",
       "立案日期                 object\n",
       "受诉法院或仲裁机构名称          object\n",
       "是否聘请律师               object\n",
       "律所                   object\n",
       "案件现状                 object\n",
       "案件阶段                 object\n",
       "最新进展（标的额一千万以上案件）     object\n",
       "裁判日期                 object\n",
       "裁判文书                 object\n",
       "回款金额                float64\n",
       "付款金额                float64\n",
       "是否结案                 object\n",
       "填报单位                 object\n",
       "dtype: object"
      ]
     },
     "execution_count": 10,
     "metadata": {},
     "output_type": "execute_result"
    }
   ],
   "source": [
    "x.dtypes"
   ]
  },
  {
   "cell_type": "code",
   "execution_count": 11,
   "id": "f12c29d8",
   "metadata": {},
   "outputs": [],
   "source": [
    "x=x.reset_index(drop=True)"
   ]
  },
  {
   "cell_type": "markdown",
   "id": "7851e704",
   "metadata": {},
   "source": [
    "for i,e in enumerate (x['立案日期']):\n",
    "    if e[:4]!= \"2021\":\n",
    "        x=x.drop(labels=[i],axis=0)\n",
    "    "
   ]
  },
  {
   "cell_type": "code",
   "execution_count": 12,
   "id": "d9b9f162",
   "metadata": {},
   "outputs": [],
   "source": [
    "for i,e in enumerate (x['是否结案']):\n",
    "    if e== \"是\":\n",
    "        x=x.drop(labels=[i],axis=0)\n",
    "    "
   ]
  },
  {
   "cell_type": "code",
   "execution_count": 13,
   "id": "34513212",
   "metadata": {},
   "outputs": [],
   "source": [
    "x.to_excel('C:/Users/user/Desktop/output.xlsx',encoding='utf-8-sig')"
   ]
  }
 ],
 "metadata": {
  "kernelspec": {
   "display_name": "Python 3",
   "language": "python",
   "name": "python3"
  },
  "language_info": {
   "codemirror_mode": {
    "name": "ipython",
    "version": 3
   },
   "file_extension": ".py",
   "mimetype": "text/x-python",
   "name": "python",
   "nbconvert_exporter": "python",
   "pygments_lexer": "ipython3",
   "version": "3.8.8"
  }
 },
 "nbformat": 4,
 "nbformat_minor": 5
}
