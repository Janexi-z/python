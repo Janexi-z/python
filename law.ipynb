{
 "cells": [
  {
   "cell_type": "code",
   "execution_count": 23,
   "id": "5b1bad82",
   "metadata": {},
   "outputs": [],
   "source": [
    "import pandas as pd"
   ]
  },
  {
   "cell_type": "code",
   "execution_count": 78,
   "id": "c484f7c6",
   "metadata": {},
   "outputs": [],
   "source": [
    "import numbers"
   ]
  },
  {
   "cell_type": "code",
   "execution_count": 146,
   "id": "9bd1c2db",
   "metadata": {},
   "outputs": [],
   "source": [
    "import os\n",
    "\n",
    "dirname = r\"E:/纠纷\"\n",
    "filename = \".xls\"\n",
    "\n",
    "result = []\n",
    "def search(dirname=dirname, filename=\"\"):\n",
    "    for item in os.listdir(dirname):\n",
    "        item_path = os.path.join(dirname, item)\n",
    "        if os.path.isdir(item_path):\n",
    "            search(item_path, filename)\n",
    "        elif os.path.isfile(item_path):\n",
    "            if filename in item:\n",
    "                global result\n",
    "                result.append(item_path)\n",
    "                #print(item_path+\";\")"
   ]
  },
  {
   "cell_type": "code",
   "execution_count": 147,
   "id": "feb8463c",
   "metadata": {},
   "outputs": [],
   "source": [
    "search(dirname, filename)"
   ]
  },
  {
   "cell_type": "code",
   "execution_count": 148,
   "id": "3e59be66",
   "metadata": {},
   "outputs": [
    {
     "name": "stdout",
     "output_type": "stream",
     "text": [
      "['E:/纠纷\\\\20211227中钢矿院-附件1：2021年度中钢集团法律纠纷案件数据统计表(1).xls', 'E:/纠纷\\\\2021年度中央企业法律纠纷案件数据统计表 20211228.xls', 'E:/纠纷\\\\附件1：2021年度中钢科技.xls', 'E:/纠纷\\\\附件1：2021年度中钢集团法律纠纷案件数据统计表(2).xls', 'E:/纠纷\\\\附件1：2021年度中钢集团法律纠纷案件数据统计表(3).xls', 'E:/纠纷\\\\附件1：2021年度中钢集团法律纠纷案件数据统计表1(1).xls']\n"
     ]
    }
   ],
   "source": [
    "print(result)"
   ]
  },
  {
   "cell_type": "code",
   "execution_count": 149,
   "id": "f7c506ff",
   "metadata": {},
   "outputs": [],
   "source": [
    "li=[]\n",
    "for i in result:\n",
    "    li.append(pd.read_excel(i))\n",
    "writer = pd.ExcelWriter('C:/Users/user/Desktop/output.xlsx')\n",
    "pd.concat(li).to_excel(writer,'Sheet1',index=False)\n",
    "  \n",
    "writer.save()"
   ]
  },
  {
   "cell_type": "code",
   "execution_count": 150,
   "id": "a3b967e9",
   "metadata": {},
   "outputs": [],
   "source": [
    "x=pd.read_excel('C:/Users/user/Desktop/output.xlsx')"
   ]
  },
  {
   "cell_type": "code",
   "execution_count": 151,
   "id": "6d0b1122",
   "metadata": {},
   "outputs": [],
   "source": [
    "x=x.fillna(0)"
   ]
  },
  {
   "cell_type": "code",
   "execution_count": 152,
   "id": "848c05e7",
   "metadata": {},
   "outputs": [],
   "source": [
    "def sumup (zzd,zz):\n",
    "    a=[]\n",
    "    b=[]\n",
    "    for i,e in enumerate (x['附件1']):\n",
    "        if e ==zzd:\n",
    "            a.append(x['Unnamed: 3'][i+zz])\n",
    "            b.append(x['Unnamed: 3'][i+1+zz])\n",
    "            zyy=x['Unnamed: 1'][i+zz]\n",
    "    return(zyy,sum(a),sum(b))\n",
    "    #return(zyy,a,b)\n",
    "        \n",
    "        \n",
    "    #sum(a),sum(b)"
   ]
  },
  {
   "cell_type": "code",
   "execution_count": 134,
   "id": "e2ed4be9",
   "metadata": {},
   "outputs": [],
   "source": [
    "num=[0,2,4,6,8,10,12,14,16,18,20]"
   ]
  },
  {
   "cell_type": "code",
   "execution_count": 135,
   "id": "67fc092b",
   "metadata": {},
   "outputs": [
    {
     "name": "stdout",
     "output_type": "stream",
     "text": [
      "11\n"
     ]
    }
   ],
   "source": [
    "print(len(num))#11"
   ]
  },
  {
   "cell_type": "code",
   "execution_count": 138,
   "id": "2d161368",
   "metadata": {},
   "outputs": [
    {
     "data": {
      "text/plain": [
       "('其他类型3', 15955552861, 0)"
      ]
     },
     "execution_count": 138,
     "metadata": {},
     "output_type": "execute_result"
    }
   ],
   "source": [
    "sumup('法律纠纷案件主要类型',20)"
   ]
  },
  {
   "cell_type": "code",
   "execution_count": 153,
   "id": "cd84c6d6",
   "metadata": {},
   "outputs": [],
   "source": [
    "zx=[]\n",
    "for i in (num):\n",
    "    zx.append(sumup('法律纠纷案件主要类型',i))"
   ]
  },
  {
   "cell_type": "code",
   "execution_count": 154,
   "id": "a971b23f",
   "metadata": {},
   "outputs": [
    {
     "data": {
      "text/plain": [
       "[('投资并购案件', 2, 15302.93),\n",
       " ('担保借贷案件', 2, 197349700),\n",
       " ('建筑施工案件', 3, 415.46999999999997),\n",
       " ('金融证券案件', 1, 20),\n",
       " ('知识产权案件', 0, 0),\n",
       " ('买卖纠纷案件', 55, 11008.165),\n",
       " ('劳动纠纷案件', 0, 0),\n",
       " ('刑事案件', 0, 0),\n",
       " ('返还原物纠纷案件', 3, 588),\n",
       " ('其他类型2', 2, 95.65),\n",
       " ('其他类型3', 1, 27)]"
      ]
     },
     "execution_count": 154,
     "metadata": {},
     "output_type": "execute_result"
    }
   ],
   "source": [
    "zx"
   ]
  },
  {
   "cell_type": "code",
   "execution_count": 52,
   "id": "b7eb569f",
   "metadata": {},
   "outputs": [
    {
     "data": {
      "text/plain": [
       "('新发案件', 26, 197367279.835)"
      ]
     },
     "execution_count": 52,
     "metadata": {},
     "output_type": "execute_result"
    }
   ],
   "source": [
    "sumup('全部法律纠纷案件',2)"
   ]
  },
  {
   "cell_type": "code",
   "execution_count": 21,
   "id": "d5423e8c",
   "metadata": {},
   "outputs": [
    {
     "data": {
      "text/plain": [
       "67"
      ]
     },
     "execution_count": 21,
     "metadata": {},
     "output_type": "execute_result"
    }
   ],
   "source": [
    "全部法律纠纷案件"
   ]
  },
  {
   "cell_type": "code",
   "execution_count": 22,
   "id": "7383ab9e",
   "metadata": {},
   "outputs": [
    {
     "data": {
      "text/plain": [
       "27457.215"
      ]
     },
     "execution_count": 22,
     "metadata": {},
     "output_type": "execute_result"
    }
   ],
   "source": [
    "全部法律纠纷案件_value"
   ]
  },
  {
   "cell_type": "code",
   "execution_count": 15,
   "id": "b89d8055",
   "metadata": {},
   "outputs": [],
   "source": [
    "全部法律纠纷案件=sum(a)"
   ]
  },
  {
   "cell_type": "code",
   "execution_count": 16,
   "id": "65d218c0",
   "metadata": {},
   "outputs": [],
   "source": [
    "全部法律纠纷案件_value=sum(b)"
   ]
  },
  {
   "cell_type": "code",
   "execution_count": 9,
   "id": "39a93b71",
   "metadata": {},
   "outputs": [
    {
     "data": {
      "text/plain": [
       "dtype('O')"
      ]
     },
     "execution_count": 9,
     "metadata": {},
     "output_type": "execute_result"
    }
   ],
   "source": [
    "x['立案日期'].dtype"
   ]
  },
  {
   "cell_type": "code",
   "execution_count": 10,
   "id": "14d3de19",
   "metadata": {},
   "outputs": [
    {
     "data": {
      "text/plain": [
       "编号                   object\n",
       "是否初次上报               object\n",
       "案件发生单位               object\n",
       "案件类型                 object\n",
       "纠纷原因                 object\n",
       "涉案当事人                object\n",
       "Unnamed: 6           object\n",
       "Unnamed: 7           object\n",
       "标的额                 float64\n",
       "立案日期                 object\n",
       "受诉法院或仲裁机构名称          object\n",
       "是否聘请律师               object\n",
       "律所                   object\n",
       "案件现状                 object\n",
       "案件阶段                 object\n",
       "最新进展（标的额一千万以上案件）     object\n",
       "裁判日期                 object\n",
       "裁判文书                 object\n",
       "回款金额                float64\n",
       "付款金额                float64\n",
       "是否结案                 object\n",
       "填报单位                 object\n",
       "dtype: object"
      ]
     },
     "execution_count": 10,
     "metadata": {},
     "output_type": "execute_result"
    }
   ],
   "source": [
    "x.dtypes"
   ]
  },
  {
   "cell_type": "code",
   "execution_count": 11,
   "id": "f12c29d8",
   "metadata": {},
   "outputs": [],
   "source": [
    "x=x.reset_index(drop=True)"
   ]
  },
  {
   "cell_type": "markdown",
   "id": "7851e704",
   "metadata": {},
   "source": [
    "for i,e in enumerate (x['立案日期']):\n",
    "    if e[:4]!= \"2021\":\n",
    "        x=x.drop(labels=[i],axis=0)\n",
    "    "
   ]
  },
  {
   "cell_type": "code",
   "execution_count": 12,
   "id": "d9b9f162",
   "metadata": {},
   "outputs": [],
   "source": [
    "for i,e in enumerate (x['是否结案']):\n",
    "    if e== \"是\":\n",
    "        x=x.drop(labels=[i],axis=0)\n",
    "    "
   ]
  },
  {
   "cell_type": "code",
   "execution_count": 13,
   "id": "34513212",
   "metadata": {},
   "outputs": [],
   "source": [
    "x.to_excel('C:/Users/user/Desktop/output.xlsx',encoding='utf-8-sig')"
   ]
  }
 ],
 "metadata": {
  "kernelspec": {
   "display_name": "Python 3",
   "language": "python",
   "name": "python3"
  },
  "language_info": {
   "codemirror_mode": {
    "name": "ipython",
    "version": 3
   },
   "file_extension": ".py",
   "mimetype": "text/x-python",
   "name": "python",
   "nbconvert_exporter": "python",
   "pygments_lexer": "ipython3",
   "version": "3.8.8"
  }
 },
 "nbformat": 4,
 "nbformat_minor": 5
}
