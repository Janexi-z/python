{
 "cells": [
  {
   "cell_type": "code",
   "execution_count": null,
   "id": "007f1c8e",
   "metadata": {},
   "outputs": [],
   "source": [
    "pip install PyPDF2"
   ]
  },
  {
   "cell_type": "code",
   "execution_count": 1,
   "id": "a514e549",
   "metadata": {},
   "outputs": [],
   "source": [
    "import os\n",
    "from PyPDF2 import PdfFileMerger\n",
    "\n",
    "target_path = 'C:/Users/user/Desktop/s'\n",
    "pdf_lst = [f for f in os.listdir(target_path) if f.endswith('.pdf')]\n",
    "pdf_lst = [os.path.join(target_path, filename) for filename in pdf_lst]\n",
    "\n",
    "file_merger = PdfFileMerger()\n",
    "for pdf in pdf_lst:\n",
    "    file_merger.append(pdf)     # 合并pdf文件\n",
    "\n",
    "file_merger.write(\"C:/Users/user/Desktop/s/天津法院判决.pdf\")"
   ]
  },
  {
   "cell_type": "code",
   "execution_count": null,
   "id": "1dc5be48",
   "metadata": {},
   "outputs": [],
   "source": [
    "pip install PyMuPDF"
   ]
  },
  {
   "cell_type": "code",
   "execution_count": null,
   "id": "8af61d62",
   "metadata": {},
   "outputs": [],
   "source": [
    "pip install fitz"
   ]
  },
  {
   "cell_type": "code",
   "execution_count": null,
   "id": "29ca2b88",
   "metadata": {},
   "outputs": [],
   "source": [
    "import glob\n",
    "import fitz  # 导入本模块需安装pymupdf库\n",
    "import os\n",
    "\n",
    "# 将文件夹中所有jpg图片全部转换为一个指定名称的pdf文件，并保存至指定文件夹\n",
    "def pic2pdf_1(img_path, pdf_path, pdf_name):\n",
    "    doc = fitz.open()\n",
    "\n",
    "    for img in sorted(glob.glob(img_path + \"\\*.jpg\")):\n",
    "        imgdoc = fitz.open(img)\n",
    "        pdfbytes = imgdoc.convertToPDF()\n",
    "        imgpdf = fitz.open(\"pdf\", pdfbytes)\n",
    "        doc.insertPDF(imgpdf)\n",
    "    doc.save(pdf_path + pdf_name)\n",
    "    doc.close()\n",
    "    "
   ]
  },
  {
   "cell_type": "code",
   "execution_count": null,
   "id": "55466dfb",
   "metadata": {},
   "outputs": [],
   "source": [
    " pic2pdf_1(\"C:/Users/user/Desktop/s\", \"C:/Users/user/Desktop/s\", 'psf_.pdf')"
   ]
  },
  {
   "cell_type": "code",
   "execution_count": null,
   "id": "2081df6c",
   "metadata": {},
   "outputs": [],
   "source": []
  }
 ],
 "metadata": {
  "kernelspec": {
   "display_name": "Python 3",
   "language": "python",
   "name": "python3"
  },
  "language_info": {
   "codemirror_mode": {
    "name": "ipython",
    "version": 3
   },
   "file_extension": ".py",
   "mimetype": "text/x-python",
   "name": "python",
   "nbconvert_exporter": "python",
   "pygments_lexer": "ipython3",
   "version": "3.8.8"
  }
 },
 "nbformat": 4,
 "nbformat_minor": 5
}
