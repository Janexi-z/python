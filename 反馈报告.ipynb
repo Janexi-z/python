{
 "cells": [
  {
   "cell_type": "code",
   "execution_count": 1,
   "id": "0fce8b21",
   "metadata": {},
   "outputs": [],
   "source": [
    "import pandas as pd\n",
    "import numpy as np"
   ]
  },
  {
   "cell_type": "code",
   "execution_count": 2,
   "id": "acbd9574",
   "metadata": {},
   "outputs": [],
   "source": [
    "file= pd.read_excel(\"E:/google/单位问题库一览 (1).xlsx\")"
   ]
  },
  {
   "cell_type": "code",
   "execution_count": 3,
   "id": "d4e3adc4",
   "metadata": {},
   "outputs": [],
   "source": [
    "fd= pd.read_excel(\"E:/google/审计问题反馈记录 (1).xlsx\")"
   ]
  },
  {
   "cell_type": "code",
   "execution_count": 23,
   "id": "6cb272dd",
   "metadata": {},
   "outputs": [
    {
     "data": {
      "text/plain": [
       "中钢集团审〔2020〕189号      26\n",
       "中钢集团审〔2020〕190号      19\n",
       "中钢集团审〔2020〕125号      11\n",
       "中钢集团2016-2018专项审计    10\n",
       "中钢股份审〔2017〕56号        6\n",
       "中钢集团审〔2020〕126号       5\n",
       "中钢科技〔2021〕26号         5\n",
       "中钢科技[2020]86号         4\n",
       "中钢科技〔2021〕25号         4\n",
       "中钢集团审〔2019〕7号         2\n",
       "Name: 报告编号, dtype: int64"
      ]
     },
     "execution_count": 23,
     "metadata": {},
     "output_type": "execute_result"
    }
   ],
   "source": [
    "file.报告编号.value_counts()"
   ]
  },
  {
   "cell_type": "code",
   "execution_count": 34,
   "id": "57887b3e",
   "metadata": {},
   "outputs": [
    {
     "data": {
      "text/plain": [
       "中钢集团郑州金属制品研究院有限公司     3\n",
       "中钢集团洛阳耐火材料研究院有限公司     2\n",
       "中钢集团鞍山热能研究院有限公司       1\n",
       "中钢宁夏耐研滨河新材料有限公司       1\n",
       "中钢集团郑州金属制品工程技术有限公司    1\n",
       "中钢集团耐火材料有限公司          1\n",
       "中国冶金科技成果转化有限公司        1\n",
       "Name: 整改主体, dtype: int64"
      ]
     },
     "execution_count": 34,
     "metadata": {},
     "output_type": "execute_result"
    }
   ],
   "source": [
    "file.loc[file['报告编号']=='中钢集团2016-2018专项审计'].整改主体.value_counts()"
   ]
  },
  {
   "cell_type": "code",
   "execution_count": 37,
   "id": "955b44b0",
   "metadata": {},
   "outputs": [],
   "source": [
    "x=file.loc[file['报告编号']=='中钢集团2016-2018专项审计']#.整改主体.value_counts()"
   ]
  },
  {
   "cell_type": "code",
   "execution_count": 38,
   "id": "fba3dfe5",
   "metadata": {},
   "outputs": [],
   "source": [
    "z=x.loc[file['整改主体']!='中钢宁夏耐研滨河新材料有限公司']"
   ]
  },
  {
   "cell_type": "code",
   "execution_count": 42,
   "id": "962d0780",
   "metadata": {},
   "outputs": [
    {
     "data": {
      "text/plain": [
       "部分完成    5\n",
       "基本完成    4\n",
       "Name: 问题状态, dtype: int64"
      ]
     },
     "execution_count": 42,
     "metadata": {},
     "output_type": "execute_result"
    }
   ],
   "source": [
    "z.问题状态.value_counts()"
   ]
  },
  {
   "cell_type": "code",
   "execution_count": 40,
   "id": "0b919277",
   "metadata": {},
   "outputs": [],
   "source": [
    "z.to_csv('E:/google/ssx.csv')"
   ]
  },
  {
   "cell_type": "code",
   "execution_count": 28,
   "id": "92954cbe",
   "metadata": {},
   "outputs": [
    {
     "data": {
      "text/plain": [
       "中钢集团洛阳耐火材料研究院有限公司    10\n",
       "Name: 整改主体, dtype: int64"
      ]
     },
     "execution_count": 28,
     "metadata": {},
     "output_type": "execute_result"
    }
   ],
   "source": [
    "fd.loc[file['报告编号']=='中钢集团2016-2018专项审计'].整改主体.value_counts()"
   ]
  },
  {
   "cell_type": "code",
   "execution_count": 31,
   "id": "b066d4a2",
   "metadata": {},
   "outputs": [
    {
     "data": {
      "text/plain": [
       "项目名称        10\n",
       "报告编号        10\n",
       "整改主体        10\n",
       "上级平台        10\n",
       "问题明细        10\n",
       "问题状态        10\n",
       "整改报告措施摘要     2\n",
       "整改进展        10\n",
       "问责情况        10\n",
       "未完成原因        0\n",
       "问题反馈时间      10\n",
       "dtype: int64"
      ]
     },
     "execution_count": 31,
     "metadata": {},
     "output_type": "execute_result"
    }
   ],
   "source": [
    "fd.loc[file['报告编号']=='中钢集团2016-2018专项审计'].count()"
   ]
  },
  {
   "cell_type": "code",
   "execution_count": 29,
   "id": "4a56094f",
   "metadata": {},
   "outputs": [
    {
     "data": {
      "text/plain": [
       "中钢科技[2020]86号        19\n",
       "中钢集团审〔2020〕125号      15\n",
       "中钢股份审〔2017〕56号       15\n",
       "中钢集团2016-2018专项审计    12\n",
       "中钢科技〔2021〕26号         9\n",
       "中钢科技[2020]85号         5\n",
       "中钢科技〔2021〕25号         4\n",
       "中钢股份审〔2018〕55号        2\n",
       "中钢集团审〔2020〕126号       2\n",
       "Name: 报告编号, dtype: int64"
      ]
     },
     "execution_count": 29,
     "metadata": {},
     "output_type": "execute_result"
    }
   ],
   "source": [
    "fd.报告编号.value_counts()"
   ]
  }
 ],
 "metadata": {
  "kernelspec": {
   "display_name": "Python 3",
   "language": "python",
   "name": "python3"
  },
  "language_info": {
   "codemirror_mode": {
    "name": "ipython",
    "version": 3
   },
   "file_extension": ".py",
   "mimetype": "text/x-python",
   "name": "python",
   "nbconvert_exporter": "python",
   "pygments_lexer": "ipython3",
   "version": "3.8.8"
  }
 },
 "nbformat": 4,
 "nbformat_minor": 5
}
