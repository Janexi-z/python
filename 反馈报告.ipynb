{
 "cells": [
  {
   "cell_type": "code",
   "execution_count": 1,
   "id": "0fce8b21",
   "metadata": {},
   "outputs": [],
   "source": [
    "import pandas as pd\n",
    "import numpy as np"
   ]
  },
  {
   "cell_type": "code",
   "execution_count": 2,
   "id": "acbd9574",
   "metadata": {},
   "outputs": [],
   "source": [
    "file= pd.read_excel(\"E:/google/单位问题库一览 (1).xlsx\")"
   ]
  },
  {
   "cell_type": "code",
   "execution_count": 3,
   "id": "d4e3adc4",
   "metadata": {},
   "outputs": [],
   "source": [
    "fd= pd.read_excel(\"E:/google/审计问题反馈记录 (1).xlsx\")"
   ]
  },
  {
   "cell_type": "code",
   "execution_count": 4,
   "id": "bdd5bca3",
   "metadata": {},
   "outputs": [
    {
     "data": {
      "text/html": [
       "<div>\n",
       "<style scoped>\n",
       "    .dataframe tbody tr th:only-of-type {\n",
       "        vertical-align: middle;\n",
       "    }\n",
       "\n",
       "    .dataframe tbody tr th {\n",
       "        vertical-align: top;\n",
       "    }\n",
       "\n",
       "    .dataframe thead th {\n",
       "        text-align: right;\n",
       "    }\n",
       "</style>\n",
       "<table border=\"1\" class=\"dataframe\">\n",
       "  <thead>\n",
       "    <tr style=\"text-align: right;\">\n",
       "      <th></th>\n",
       "      <th>显示状态</th>\n",
       "      <th>报告类别</th>\n",
       "      <th>报告编号</th>\n",
       "      <th>整改主体</th>\n",
       "      <th>整改部门</th>\n",
       "      <th>主审机构</th>\n",
       "      <th>上级平台</th>\n",
       "      <th>问题方面</th>\n",
       "      <th>问题类型</th>\n",
       "      <th>问题明细</th>\n",
       "      <th>...</th>\n",
       "      <th>整改进展</th>\n",
       "      <th>挽回损失金额</th>\n",
       "      <th>减少损失风险金额</th>\n",
       "      <th>完善制度</th>\n",
       "      <th>创造效益</th>\n",
       "      <th>回笼资金</th>\n",
       "      <th>追责问责</th>\n",
       "      <th>未完成整改原因</th>\n",
       "      <th>后续计划</th>\n",
       "      <th>审计项目主管</th>\n",
       "    </tr>\n",
       "  </thead>\n",
       "  <tbody>\n",
       "    <tr>\n",
       "      <th>0</th>\n",
       "      <td>正在推进</td>\n",
       "      <td>专项审计</td>\n",
       "      <td>中钢科技〔2021〕25号</td>\n",
       "      <td>中钢集团马鞍山资产管理有限公司</td>\n",
       "      <td>NaN</td>\n",
       "      <td>子集团审计部门</td>\n",
       "      <td>中钢科技</td>\n",
       "      <td>财务管理</td>\n",
       "      <td>税务管理</td>\n",
       "      <td>税收筹划</td>\n",
       "      <td>...</td>\n",
       "      <td>整改中</td>\n",
       "      <td>0.0</td>\n",
       "      <td>0.0</td>\n",
       "      <td>0.0</td>\n",
       "      <td>0.0</td>\n",
       "      <td>0.0</td>\n",
       "      <td>0.0</td>\n",
       "      <td>未到整改期限</td>\n",
       "      <td>无</td>\n",
       "      <td>康健</td>\n",
       "    </tr>\n",
       "    <tr>\n",
       "      <th>1</th>\n",
       "      <td>正在推进</td>\n",
       "      <td>专项审计</td>\n",
       "      <td>中钢科技〔2021〕25号</td>\n",
       "      <td>中钢集团马鞍山资产管理有限公司</td>\n",
       "      <td>NaN</td>\n",
       "      <td>子集团审计部门</td>\n",
       "      <td>中钢科技</td>\n",
       "      <td>资产管理</td>\n",
       "      <td>资产运营</td>\n",
       "      <td>租赁租金</td>\n",
       "      <td>...</td>\n",
       "      <td>整改中</td>\n",
       "      <td>0.0</td>\n",
       "      <td>0.0</td>\n",
       "      <td>0.0</td>\n",
       "      <td>0.0</td>\n",
       "      <td>0.0</td>\n",
       "      <td>0.0</td>\n",
       "      <td>未到整改期限</td>\n",
       "      <td>无</td>\n",
       "      <td>康健</td>\n",
       "    </tr>\n",
       "    <tr>\n",
       "      <th>2</th>\n",
       "      <td>正在推进</td>\n",
       "      <td>专项审计</td>\n",
       "      <td>中钢科技〔2021〕25号</td>\n",
       "      <td>中钢集团马鞍山资产管理有限公司</td>\n",
       "      <td>NaN</td>\n",
       "      <td>子集团审计部门</td>\n",
       "      <td>中钢科技</td>\n",
       "      <td>资产管理</td>\n",
       "      <td>资产运营</td>\n",
       "      <td>租赁租金</td>\n",
       "      <td>...</td>\n",
       "      <td>整改中</td>\n",
       "      <td>0.0</td>\n",
       "      <td>0.0</td>\n",
       "      <td>0.0</td>\n",
       "      <td>0.0</td>\n",
       "      <td>0.0</td>\n",
       "      <td>0.0</td>\n",
       "      <td>未到整改期限</td>\n",
       "      <td>无</td>\n",
       "      <td>康健</td>\n",
       "    </tr>\n",
       "    <tr>\n",
       "      <th>3</th>\n",
       "      <td>正在推进</td>\n",
       "      <td>专项审计</td>\n",
       "      <td>中钢科技〔2021〕25号</td>\n",
       "      <td>中钢集团马鞍山资产管理有限公司</td>\n",
       "      <td>NaN</td>\n",
       "      <td>子集团审计部门</td>\n",
       "      <td>中钢科技</td>\n",
       "      <td>资金管理</td>\n",
       "      <td>资金管理</td>\n",
       "      <td>资金筹划</td>\n",
       "      <td>...</td>\n",
       "      <td>整改中</td>\n",
       "      <td>0.0</td>\n",
       "      <td>0.0</td>\n",
       "      <td>0.0</td>\n",
       "      <td>0.0</td>\n",
       "      <td>0.0</td>\n",
       "      <td>0.0</td>\n",
       "      <td>未到整改期限</td>\n",
       "      <td>无</td>\n",
       "      <td>康健</td>\n",
       "    </tr>\n",
       "    <tr>\n",
       "      <th>4</th>\n",
       "      <td>正在推进</td>\n",
       "      <td>专项审计</td>\n",
       "      <td>中钢科技〔2021〕26号</td>\n",
       "      <td>中钢集团马鞍山资产管理有限公司</td>\n",
       "      <td>NaN</td>\n",
       "      <td>子集团审计部门</td>\n",
       "      <td>中钢科技</td>\n",
       "      <td>财务管理</td>\n",
       "      <td>财务管理</td>\n",
       "      <td>基础管理</td>\n",
       "      <td>...</td>\n",
       "      <td>整改中</td>\n",
       "      <td>0.0</td>\n",
       "      <td>0.0</td>\n",
       "      <td>0.0</td>\n",
       "      <td>0.0</td>\n",
       "      <td>0.0</td>\n",
       "      <td>0.0</td>\n",
       "      <td>未到整改期限</td>\n",
       "      <td>无</td>\n",
       "      <td>康健</td>\n",
       "    </tr>\n",
       "  </tbody>\n",
       "</table>\n",
       "<p>5 rows × 26 columns</p>\n",
       "</div>"
      ],
      "text/plain": [
       "   显示状态  报告类别           报告编号             整改主体  整改部门     主审机构  上级平台  问题方面  \\\n",
       "0  正在推进  专项审计  中钢科技〔2021〕25号  中钢集团马鞍山资产管理有限公司   NaN  子集团审计部门  中钢科技  财务管理   \n",
       "1  正在推进  专项审计  中钢科技〔2021〕25号  中钢集团马鞍山资产管理有限公司   NaN  子集团审计部门  中钢科技  资产管理   \n",
       "2  正在推进  专项审计  中钢科技〔2021〕25号  中钢集团马鞍山资产管理有限公司   NaN  子集团审计部门  中钢科技  资产管理   \n",
       "3  正在推进  专项审计  中钢科技〔2021〕25号  中钢集团马鞍山资产管理有限公司   NaN  子集团审计部门  中钢科技  资金管理   \n",
       "4  正在推进  专项审计  中钢科技〔2021〕26号  中钢集团马鞍山资产管理有限公司   NaN  子集团审计部门  中钢科技  财务管理   \n",
       "\n",
       "   问题类型  问题明细  ... 整改进展  挽回损失金额  减少损失风险金额 完善制度 创造效益 回笼资金 追责问责  未完成整改原因  后续计划  \\\n",
       "0  税务管理  税收筹划  ...  整改中     0.0       0.0  0.0  0.0  0.0  0.0   未到整改期限     无   \n",
       "1  资产运营  租赁租金  ...  整改中     0.0       0.0  0.0  0.0  0.0  0.0   未到整改期限     无   \n",
       "2  资产运营  租赁租金  ...  整改中     0.0       0.0  0.0  0.0  0.0  0.0   未到整改期限     无   \n",
       "3  资金管理  资金筹划  ...  整改中     0.0       0.0  0.0  0.0  0.0  0.0   未到整改期限     无   \n",
       "4  财务管理  基础管理  ...  整改中     0.0       0.0  0.0  0.0  0.0  0.0   未到整改期限     无   \n",
       "\n",
       "   审计项目主管  \n",
       "0      康健  \n",
       "1      康健  \n",
       "2      康健  \n",
       "3      康健  \n",
       "4      康健  \n",
       "\n",
       "[5 rows x 26 columns]"
      ]
     },
     "execution_count": 4,
     "metadata": {},
     "output_type": "execute_result"
    }
   ],
   "source": [
    "file.head()"
   ]
  },
  {
   "cell_type": "code",
   "execution_count": 5,
   "id": "ac88849f",
   "metadata": {},
   "outputs": [
    {
     "data": {
      "text/html": [
       "<div>\n",
       "<style scoped>\n",
       "    .dataframe tbody tr th:only-of-type {\n",
       "        vertical-align: middle;\n",
       "    }\n",
       "\n",
       "    .dataframe tbody tr th {\n",
       "        vertical-align: top;\n",
       "    }\n",
       "\n",
       "    .dataframe thead th {\n",
       "        text-align: right;\n",
       "    }\n",
       "</style>\n",
       "<table border=\"1\" class=\"dataframe\">\n",
       "  <thead>\n",
       "    <tr style=\"text-align: right;\">\n",
       "      <th></th>\n",
       "      <th>项目名称</th>\n",
       "      <th>报告编号</th>\n",
       "      <th>整改主体</th>\n",
       "      <th>上级平台</th>\n",
       "      <th>问题明细</th>\n",
       "      <th>问题状态</th>\n",
       "      <th>整改报告措施摘要</th>\n",
       "      <th>整改进展</th>\n",
       "      <th>问责情况</th>\n",
       "      <th>未完成原因</th>\n",
       "      <th>问题反馈时间</th>\n",
       "    </tr>\n",
       "  </thead>\n",
       "  <tbody>\n",
       "    <tr>\n",
       "      <th>0</th>\n",
       "      <td>中钢洛耐院内控监督评价审计</td>\n",
       "      <td>中钢集团审〔2020〕126号</td>\n",
       "      <td>中钢集团洛阳耐火材料研究院有限公司</td>\n",
       "      <td>中钢科技</td>\n",
       "      <td>职责设置</td>\n",
       "      <td>未完成</td>\n",
       "      <td>NaN</td>\n",
       "      <td>基本完成。措施1：制定采购管理办法，细化采购管理流程，将采购涉及业务按管理职能分解，制定实施...</td>\n",
       "      <td>无</td>\n",
       "      <td>NaN</td>\n",
       "      <td>2021-02-25</td>\n",
       "    </tr>\n",
       "    <tr>\n",
       "      <th>1</th>\n",
       "      <td>中钢洛耐院内控监督评价审计</td>\n",
       "      <td>中钢集团审〔2020〕126号</td>\n",
       "      <td>中钢集团洛阳耐火材料研究院有限公司</td>\n",
       "      <td>中钢科技</td>\n",
       "      <td>内控评价</td>\n",
       "      <td>未完成</td>\n",
       "      <td>NaN</td>\n",
       "      <td>已完成。完善内控评价体系，严格按规定履行院务会审议。</td>\n",
       "      <td>无</td>\n",
       "      <td>NaN</td>\n",
       "      <td>2021-02-25</td>\n",
       "    </tr>\n",
       "    <tr>\n",
       "      <th>2</th>\n",
       "      <td>中钢洛耐院离任审计</td>\n",
       "      <td>中钢集团审〔2020〕125号</td>\n",
       "      <td>中钢集团洛阳耐火材料研究院有限公司</td>\n",
       "      <td>中钢科技</td>\n",
       "      <td>在建工程核销</td>\n",
       "      <td>未完成</td>\n",
       "      <td>NaN</td>\n",
       "      <td>已完成。主管部门发起，经过公司总经理办公会同意核销。</td>\n",
       "      <td>无</td>\n",
       "      <td>NaN</td>\n",
       "      <td>2021-02-26</td>\n",
       "    </tr>\n",
       "    <tr>\n",
       "      <th>3</th>\n",
       "      <td>中钢洛耐院离任审计</td>\n",
       "      <td>中钢集团审〔2020〕125号</td>\n",
       "      <td>中钢集团洛阳耐火材料研究院有限公司</td>\n",
       "      <td>中钢科技</td>\n",
       "      <td>无形资产摊销</td>\n",
       "      <td>未完成</td>\n",
       "      <td>NaN</td>\n",
       "      <td>已完成。2019年年报审计时，会计师事务所及券商认为院以前年度专利权资本化依据不够充分，将来...</td>\n",
       "      <td>无</td>\n",
       "      <td>NaN</td>\n",
       "      <td>2021-02-25</td>\n",
       "    </tr>\n",
       "    <tr>\n",
       "      <th>4</th>\n",
       "      <td>中钢洛耐院离任审计</td>\n",
       "      <td>中钢集团审〔2020〕125号</td>\n",
       "      <td>中钢集团洛阳耐火材料研究院有限公司</td>\n",
       "      <td>中钢科技</td>\n",
       "      <td>招标采购</td>\n",
       "      <td>未完成</td>\n",
       "      <td>NaN</td>\n",
       "      <td>已完成。制修订采购管理办法，细化采购管理职能，将采购涉及业务按管理职能分解，分别制定实施细则...</td>\n",
       "      <td>无</td>\n",
       "      <td>NaN</td>\n",
       "      <td>2021-02-26</td>\n",
       "    </tr>\n",
       "  </tbody>\n",
       "</table>\n",
       "</div>"
      ],
      "text/plain": [
       "            项目名称             报告编号               整改主体  上级平台    问题明细 问题状态  \\\n",
       "0  中钢洛耐院内控监督评价审计  中钢集团审〔2020〕126号  中钢集团洛阳耐火材料研究院有限公司  中钢科技    职责设置  未完成   \n",
       "1  中钢洛耐院内控监督评价审计  中钢集团审〔2020〕126号  中钢集团洛阳耐火材料研究院有限公司  中钢科技    内控评价  未完成   \n",
       "2      中钢洛耐院离任审计  中钢集团审〔2020〕125号  中钢集团洛阳耐火材料研究院有限公司  中钢科技  在建工程核销  未完成   \n",
       "3      中钢洛耐院离任审计  中钢集团审〔2020〕125号  中钢集团洛阳耐火材料研究院有限公司  中钢科技  无形资产摊销  未完成   \n",
       "4      中钢洛耐院离任审计  中钢集团审〔2020〕125号  中钢集团洛阳耐火材料研究院有限公司  中钢科技    招标采购  未完成   \n",
       "\n",
       "  整改报告措施摘要                                               整改进展 问责情况 未完成原因  \\\n",
       "0      NaN  基本完成。措施1：制定采购管理办法，细化采购管理流程，将采购涉及业务按管理职能分解，制定实施...    无   NaN   \n",
       "1      NaN                         已完成。完善内控评价体系，严格按规定履行院务会审议。    无   NaN   \n",
       "2      NaN                         已完成。主管部门发起，经过公司总经理办公会同意核销。    无   NaN   \n",
       "3      NaN  已完成。2019年年报审计时，会计师事务所及券商认为院以前年度专利权资本化依据不够充分，将来...    无   NaN   \n",
       "4      NaN  已完成。制修订采购管理办法，细化采购管理职能，将采购涉及业务按管理职能分解，分别制定实施细则...    无   NaN   \n",
       "\n",
       "       问题反馈时间  \n",
       "0  2021-02-25  \n",
       "1  2021-02-25  \n",
       "2  2021-02-26  \n",
       "3  2021-02-25  \n",
       "4  2021-02-26  "
      ]
     },
     "execution_count": 5,
     "metadata": {},
     "output_type": "execute_result"
    }
   ],
   "source": [
    "fd.head()"
   ]
  },
  {
   "cell_type": "code",
   "execution_count": 23,
   "id": "6cb272dd",
   "metadata": {},
   "outputs": [
    {
     "data": {
      "text/plain": [
       "中钢集团审〔2020〕189号      26\n",
       "中钢集团审〔2020〕190号      19\n",
       "中钢集团审〔2020〕125号      11\n",
       "中钢集团2016-2018专项审计    10\n",
       "中钢股份审〔2017〕56号        6\n",
       "中钢集团审〔2020〕126号       5\n",
       "中钢科技〔2021〕26号         5\n",
       "中钢科技[2020]86号         4\n",
       "中钢科技〔2021〕25号         4\n",
       "中钢集团审〔2019〕7号         2\n",
       "Name: 报告编号, dtype: int64"
      ]
     },
     "execution_count": 23,
     "metadata": {},
     "output_type": "execute_result"
    }
   ],
   "source": [
    "file.报告编号.value_counts()"
   ]
  },
  {
   "cell_type": "code",
   "execution_count": 34,
   "id": "57887b3e",
   "metadata": {},
   "outputs": [
    {
     "data": {
      "text/plain": [
       "中钢集团郑州金属制品研究院有限公司     3\n",
       "中钢集团洛阳耐火材料研究院有限公司     2\n",
       "中钢集团鞍山热能研究院有限公司       1\n",
       "中钢宁夏耐研滨河新材料有限公司       1\n",
       "中钢集团郑州金属制品工程技术有限公司    1\n",
       "中钢集团耐火材料有限公司          1\n",
       "中国冶金科技成果转化有限公司        1\n",
       "Name: 整改主体, dtype: int64"
      ]
     },
     "execution_count": 34,
     "metadata": {},
     "output_type": "execute_result"
    }
   ],
   "source": [
    "file.loc[file['报告编号']=='中钢集团2016-2018专项审计'].整改主体.value_counts()"
   ]
  },
  {
   "cell_type": "code",
   "execution_count": 37,
   "id": "955b44b0",
   "metadata": {},
   "outputs": [],
   "source": [
    "x=file.loc[file['报告编号']=='中钢集团2016-2018专项审计']#.整改主体.value_counts()"
   ]
  },
  {
   "cell_type": "code",
   "execution_count": 38,
   "id": "fba3dfe5",
   "metadata": {},
   "outputs": [],
   "source": [
    "z=x.loc[file['整改主体']!='中钢宁夏耐研滨河新材料有限公司']"
   ]
  },
  {
   "cell_type": "code",
   "execution_count": 42,
   "id": "962d0780",
   "metadata": {},
   "outputs": [
    {
     "data": {
      "text/plain": [
       "部分完成    5\n",
       "基本完成    4\n",
       "Name: 问题状态, dtype: int64"
      ]
     },
     "execution_count": 42,
     "metadata": {},
     "output_type": "execute_result"
    }
   ],
   "source": [
    "z.问题状态.value_counts()"
   ]
  },
  {
   "cell_type": "code",
   "execution_count": 40,
   "id": "0b919277",
   "metadata": {},
   "outputs": [],
   "source": [
    "z.to_csv('E:/google/ssx.csv')"
   ]
  },
  {
   "cell_type": "code",
   "execution_count": 28,
   "id": "92954cbe",
   "metadata": {},
   "outputs": [
    {
     "data": {
      "text/plain": [
       "中钢集团洛阳耐火材料研究院有限公司    10\n",
       "Name: 整改主体, dtype: int64"
      ]
     },
     "execution_count": 28,
     "metadata": {},
     "output_type": "execute_result"
    }
   ],
   "source": [
    "fd.loc[file['报告编号']=='中钢集团2016-2018专项审计'].整改主体.value_counts()"
   ]
  },
  {
   "cell_type": "code",
   "execution_count": 31,
   "id": "b066d4a2",
   "metadata": {},
   "outputs": [
    {
     "data": {
      "text/plain": [
       "项目名称        10\n",
       "报告编号        10\n",
       "整改主体        10\n",
       "上级平台        10\n",
       "问题明细        10\n",
       "问题状态        10\n",
       "整改报告措施摘要     2\n",
       "整改进展        10\n",
       "问责情况        10\n",
       "未完成原因        0\n",
       "问题反馈时间      10\n",
       "dtype: int64"
      ]
     },
     "execution_count": 31,
     "metadata": {},
     "output_type": "execute_result"
    }
   ],
   "source": [
    "fd.loc[file['报告编号']=='中钢集团2016-2018专项审计'].count()"
   ]
  },
  {
   "cell_type": "code",
   "execution_count": 29,
   "id": "4a56094f",
   "metadata": {},
   "outputs": [
    {
     "data": {
      "text/plain": [
       "中钢科技[2020]86号        19\n",
       "中钢集团审〔2020〕125号      15\n",
       "中钢股份审〔2017〕56号       15\n",
       "中钢集团2016-2018专项审计    12\n",
       "中钢科技〔2021〕26号         9\n",
       "中钢科技[2020]85号         5\n",
       "中钢科技〔2021〕25号         4\n",
       "中钢股份审〔2018〕55号        2\n",
       "中钢集团审〔2020〕126号       2\n",
       "Name: 报告编号, dtype: int64"
      ]
     },
     "execution_count": 29,
     "metadata": {},
     "output_type": "execute_result"
    }
   ],
   "source": [
    "fd.报告编号.value_counts()"
   ]
  }
 ],
 "metadata": {
  "kernelspec": {
   "display_name": "Python 3",
   "language": "python",
   "name": "python3"
  },
  "language_info": {
   "codemirror_mode": {
    "name": "ipython",
    "version": 3
   },
   "file_extension": ".py",
   "mimetype": "text/x-python",
   "name": "python",
   "nbconvert_exporter": "python",
   "pygments_lexer": "ipython3",
   "version": "3.8.8"
  }
 },
 "nbformat": 4,
 "nbformat_minor": 5
}
