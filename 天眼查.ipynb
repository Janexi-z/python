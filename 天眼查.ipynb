{
 "cells": [
  {
   "cell_type": "code",
   "execution_count": 56,
   "id": "cb8e85e4",
   "metadata": {},
   "outputs": [],
   "source": [
    "import os\n",
    "\n",
    "dirname = r\"G:/0001-违规挂靠专项巡察/zyd/天眼查/中钢新型子公司\"\n",
    "filename = \".doc\"\n",
    "\n",
    "result = []\n",
    "def search(dirname=dirname, filename=\"\"):\n",
    "    for item in os.listdir(dirname):\n",
    "        item_path = os.path.join(dirname, item)\n",
    "        if os.path.isdir(item_path):\n",
    "            search(item_path, filename)\n",
    "        elif os.path.isfile(item_path):\n",
    "            if filename in item:\n",
    "                global result\n",
    "                result.append(item_path)\n",
    "                #print(item_path+\";\")"
   ]
  },
  {
   "cell_type": "code",
   "execution_count": 57,
   "id": "2d0e22e4",
   "metadata": {},
   "outputs": [],
   "source": [
    "search(dirname, filename)"
   ]
  },
  {
   "cell_type": "code",
   "execution_count": 58,
   "id": "e1f12e40",
   "metadata": {},
   "outputs": [],
   "source": [
    "import docx\n",
    "from docx import Document #导入库\n"
   ]
  },
  {
   "cell_type": "code",
   "execution_count": 59,
   "id": "bad80167",
   "metadata": {},
   "outputs": [],
   "source": [
    "def gufen (dxx):\n",
    "    path = dxx\n",
    "    document = Document(path) #读入文件\n",
    "    tables = document.tables[2] #获取文件中的表格集\n",
    "    t=[]\n",
    "    for i, row in enumerate(tables.rows[:]):   # 读每行\n",
    "        row_content = []\n",
    "        for cell in row.cells[:]:  # 读一行中的所有单元格\n",
    "            c = cell.text\n",
    "            row_content.append(c)\n",
    "        t.append(row_content)\n",
    "    for x in document.paragraphs[18:19]:\n",
    "        zz=x.text\n",
    "    dc = Document('E:/google/test.docx')\n",
    "    dc.styles['Normal'].font.name = u'宋体'\n",
    "    paragraph = dc.add_paragraph(zz)\n",
    "    for i in t:\n",
    "        paragraph = dc.add_paragraph(i[0]+'      '+i[4])\n",
    "    return(dc.save(r\"E:/google/test.docx\"))"
   ]
  },
  {
   "cell_type": "code",
   "execution_count": 60,
   "id": "56f8eb26",
   "metadata": {},
   "outputs": [],
   "source": [
    "for i in result:\n",
    "    gufen (i)"
   ]
  },
  {
   "cell_type": "code",
   "execution_count": null,
   "id": "77b00d46",
   "metadata": {},
   "outputs": [],
   "source": []
  },
  {
   "cell_type": "code",
   "execution_count": null,
   "id": "1104e459",
   "metadata": {},
   "outputs": [],
   "source": []
  },
  {
   "cell_type": "code",
   "execution_count": null,
   "id": "dcb20803",
   "metadata": {},
   "outputs": [],
   "source": []
  },
  {
   "cell_type": "code",
   "execution_count": null,
   "id": "d749f14b",
   "metadata": {},
   "outputs": [],
   "source": []
  },
  {
   "cell_type": "code",
   "execution_count": null,
   "id": "f52af706",
   "metadata": {},
   "outputs": [],
   "source": []
  },
  {
   "cell_type": "code",
   "execution_count": null,
   "id": "c0d8d381",
   "metadata": {},
   "outputs": [],
   "source": []
  },
  {
   "cell_type": "code",
   "execution_count": null,
   "id": "cf14641f",
   "metadata": {},
   "outputs": [],
   "source": [
    "import docx\n",
    "from docx import Document #导入库\n",
    "\n",
    "path = 'G:/0001-违规挂靠专项巡察/zyd/天眼查/一级子公司/股权结构报告股权结构报告—中钢科技发展有限公司—天眼查（W25080455621628042853218）.doc' #文件路径\n",
    "document = Document(path) #读入文件\n",
    "tables = document.tables[2] #获取文件中的表格集\n",
    "t=[]\n",
    "for i, row in enumerate(tables.rows[:]):   # 读每行\n",
    "    row_content = []\n",
    "    for cell in row.cells[:]:  # 读一行中的所有单元格\n",
    "        c = cell.text\n",
    "        row_content.append(c)\n",
    "    t.append(row_content)\n",
    "for x in document.paragraphs[18:19]:\n",
    "    zz=x.text\n",
    "dc = Document('E:/google/test.docx')\n",
    "dc.styles['Normal'].font.name = u'宋体'\n",
    "paragraph = dc.add_paragraph(zz)\n",
    "for i in t:\n",
    "    paragraph = dc.add_paragraph(i[0]+'      '+i[4])\n",
    "\n",
    "# save the doc\n",
    "\n",
    "dc.save(r\"E:/google/test.docx\")"
   ]
  },
  {
   "cell_type": "code",
   "execution_count": null,
   "id": "0bcf247a",
   "metadata": {},
   "outputs": [],
   "source": [
    "for x in document.paragraphs[18:19]:\n",
    "    zz=x.text"
   ]
  },
  {
   "cell_type": "code",
   "execution_count": 3,
   "id": "9ddb3e29",
   "metadata": {},
   "outputs": [],
   "source": [
    "dc = Document()\n",
    "dc.styles['Normal'].font.name = u'宋体'\n",
    "paragraph = dc.add_paragraph('')\n",
    "\n",
    "\n",
    "# save the doc\n",
    "\n",
    "dc.save(\"E:/google/test.docx\")"
   ]
  },
  {
   "cell_type": "code",
   "execution_count": null,
   "id": "07a233d8",
   "metadata": {},
   "outputs": [],
   "source": []
  }
 ],
 "metadata": {
  "kernelspec": {
   "display_name": "Python 3",
   "language": "python",
   "name": "python3"
  },
  "language_info": {
   "codemirror_mode": {
    "name": "ipython",
    "version": 3
   },
   "file_extension": ".py",
   "mimetype": "text/x-python",
   "name": "python",
   "nbconvert_exporter": "python",
   "pygments_lexer": "ipython3",
   "version": "3.8.8"
  }
 },
 "nbformat": 4,
 "nbformat_minor": 5
}
