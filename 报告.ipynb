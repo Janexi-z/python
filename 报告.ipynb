{
 "cells": [
  {
   "cell_type": "code",
   "execution_count": 8,
   "id": "1e8caaa1",
   "metadata": {},
   "outputs": [
    {
     "name": "stdout",
     "output_type": "stream",
     "text": [
      "Requirement already satisfied: openpyxl in d:\\anaconda\\lib\\site-packages (3.0.7)Note: you may need to restart the kernel to use updated packages.\n",
      "\n",
      "Requirement already satisfied: et-xmlfile in d:\\anaconda\\lib\\site-packages (from openpyxl) (1.0.1)\n"
     ]
    }
   ],
   "source": [
    "pip install openpyxl"
   ]
  },
  {
   "cell_type": "code",
   "execution_count": 10,
   "id": "363cc389",
   "metadata": {},
   "outputs": [],
   "source": [
    "from openpyxl import load_workbook"
   ]
  },
  {
   "cell_type": "code",
   "execution_count": 5,
   "id": "1501df35",
   "metadata": {},
   "outputs": [],
   "source": [
    "import xlrd"
   ]
  },
  {
   "cell_type": "code",
   "execution_count": 14,
   "id": "f706a9fb",
   "metadata": {},
   "outputs": [],
   "source": [
    "wb=load_workbook(\"C:/Users/user/AppData/Local/Temp/360zip$Temp/360$1/附件2：审计整改情况统计表-中国科转.xlsx\")"
   ]
  },
  {
   "cell_type": "code",
   "execution_count": 18,
   "id": "69bb642c",
   "metadata": {},
   "outputs": [
    {
     "data": {
      "text/plain": [
       "<Worksheet \"明细表\">"
      ]
     },
     "execution_count": 18,
     "metadata": {},
     "output_type": "execute_result"
    }
   ],
   "source": [
    "wb.worksheets[1]"
   ]
  },
  {
   "cell_type": "code",
   "execution_count": 22,
   "id": "b646d14a",
   "metadata": {},
   "outputs": [],
   "source": [
    "s=list(wb.worksheets[1].values)"
   ]
  },
  {
   "cell_type": "code",
   "execution_count": 36,
   "id": "e0e751ad",
   "metadata": {},
   "outputs": [],
   "source": [
    "sa=s[30:]"
   ]
  },
  {
   "cell_type": "code",
   "execution_count": 37,
   "id": "be8d000e",
   "metadata": {},
   "outputs": [
    {
     "data": {
      "text/plain": [
       "('已完成',\n",
       " '离任审计',\n",
       " '中钢科技[2020]85号',\n",
       " None,\n",
       " '中国冶金科技成果转化有限公司',\n",
       " None,\n",
       " '子集团审计部门',\n",
       " '中钢科技',\n",
       " '财务管理',\n",
       " '财务管理',\n",
       " '财务核算不规范',\n",
       " '中钢科德按照收取款项或开具发票确认收入实现，而未完全按照权责发生制确认；同时，亦未按照成本归属期准确核算公司营运成本。上述核算方法势必影响公司财务报表公允反映公司资产状况与经营成果。 业务已结清仍长期挂账的往来款项包括：其他应收款/青岛新地经贸有限公司897,905.00元与其他应付款/青岛默想科技有限公司600,000.00元。',\n",
       " None,\n",
       " None,\n",
       " '公司在充分考虑内部管理的成本效益原则的前提下，按照《企业会计准则》的相关规定，在财务核算中切实遵循权责发生制原则、配比原则等基本核算准则，确保财务报表客观公允的反映公司的资产状况、经营成果及现金流量。中钢科德应依据合同相关条款，将其他应收款/青岛新地经贸有限公司897,905.00元计入当期费用科目，将其他应付款/青岛默想科技有限公司600,000.00元计入当期收益科目；将默想科技已认可但未缴纳金额297,905.00元,确认为应收债权登记入账。',\n",
       " '自2020年6月起，中钢科德已将收入确认方式由开票后确认收入修改为按照权责发生制对营业收入按月确认，保证收入的准确性。同时，成本也已按照归属期准确核算。',\n",
       " '2021-12-31',\n",
       " '已完成',\n",
       " '已完成',\n",
       " '0.0000',\n",
       " '0.0000',\n",
       " '0',\n",
       " '0.0000',\n",
       " '0.0000',\n",
       " '0',\n",
       " None,\n",
       " '无')"
      ]
     },
     "execution_count": 37,
     "metadata": {},
     "output_type": "execute_result"
    }
   ],
   "source": [
    "sa[1]"
   ]
  },
  {
   "cell_type": "code",
   "execution_count": 67,
   "id": "f1a35887",
   "metadata": {},
   "outputs": [
    {
     "data": {
      "text/plain": [
       "'自2020年6月起，中钢科德已将收入确认方式由开票后确认收入修改为按照权责发生制对营业收入按月确认，保证收入的准确性。同时，成本也已按照归属期准确核算。'"
      ]
     },
     "execution_count": 67,
     "metadata": {},
     "output_type": "execute_result"
    }
   ],
   "source": [
    "sa[1][15]"
   ]
  },
  {
   "cell_type": "code",
   "execution_count": 68,
   "id": "75003623",
   "metadata": {},
   "outputs": [],
   "source": [
    "a=[]\n",
    "b=[]\n",
    "c=[]\n",
    "d=[]\n",
    "e=[]\n",
    "f=[]"
   ]
  },
  {
   "cell_type": "code",
   "execution_count": 69,
   "id": "25279d03",
   "metadata": {},
   "outputs": [],
   "source": [
    "for i in range(len(sa)):\n",
    "    a.append(sa[i][1])\n",
    "    b.append(sa[i][9])\n",
    "    c.append(sa[i][10])\n",
    "    d.append(sa[i][11])\n",
    "    e.append(sa[i][15])\n",
    "    f.append(sa[i][14])\n"
   ]
  },
  {
   "cell_type": "code",
   "execution_count": 97,
   "id": "32280ea6",
   "metadata": {},
   "outputs": [],
   "source": [
    "g=[]\n",
    "for i in range(len(a)):\n",
    "    g.append(a[i])\n",
    "    g[i]='报告类别+++++++++'+a[i]+'++++++++++++++问题类型+++++++++++'+b[i]+'问题明细++++++++++++'+c[i]+'问题事实表述+++++++++++++++'+d[i]+'++++++++++++整改意见+++++++++++'+f[i]+'++++++++++报告措施+++++++++++++'+e[i]\n"
   ]
  },
  {
   "cell_type": "code",
   "execution_count": 95,
   "id": "b46f7756",
   "metadata": {},
   "outputs": [],
   "source": [
    "def txt (str_list:list,name):\n",
    "    with open (name,'w',encoding='utf-8')as f:\n",
    "        [f.write(i+'\\n')for i in str_list]"
   ]
  },
  {
   "cell_type": "code",
   "execution_count": 98,
   "id": "64dc73ef",
   "metadata": {},
   "outputs": [],
   "source": [
    "txt(g,'data')"
   ]
  }
 ],
 "metadata": {
  "kernelspec": {
   "display_name": "Python 3",
   "language": "python",
   "name": "python3"
  },
  "language_info": {
   "codemirror_mode": {
    "name": "ipython",
    "version": 3
   },
   "file_extension": ".py",
   "mimetype": "text/x-python",
   "name": "python",
   "nbconvert_exporter": "python",
   "pygments_lexer": "ipython3",
   "version": "3.8.8"
  }
 },
 "nbformat": 4,
 "nbformat_minor": 5
}
