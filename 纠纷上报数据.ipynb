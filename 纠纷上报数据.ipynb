{
 "cells": [
  {
   "cell_type": "code",
   "execution_count": 1,
   "id": "ffccb1eb",
   "metadata": {},
   "outputs": [],
   "source": [
    "import pandas as pd\n",
    "import numpy as np"
   ]
  },
  {
   "cell_type": "code",
   "execution_count": 2,
   "id": "f37ad418",
   "metadata": {},
   "outputs": [],
   "source": [
    "file= pd.read_excel(\"C:/Download/郑州.xls\")"
   ]
  },
  {
   "cell_type": "code",
   "execution_count": 3,
   "id": "46fe0fef",
   "metadata": {},
   "outputs": [],
   "source": [
    "file=file.drop(index=[0])"
   ]
  },
  {
   "cell_type": "code",
   "execution_count": 4,
   "id": "c03781ae",
   "metadata": {},
   "outputs": [],
   "source": [
    "file=file.loc[file['编号']!='合计']"
   ]
  },
  {
   "cell_type": "code",
   "execution_count": 5,
   "id": "66ec6c6f",
   "metadata": {},
   "outputs": [],
   "source": [
    "a=[]\n",
    "for i, e in enumerate(file['立案日期']):\n",
    "    a.append(e[:4])       "
   ]
  },
  {
   "cell_type": "code",
   "execution_count": 6,
   "id": "c1072148",
   "metadata": {},
   "outputs": [],
   "source": [
    "results = list(map(int, a))"
   ]
  },
  {
   "cell_type": "code",
   "execution_count": 7,
   "id": "c514956d",
   "metadata": {},
   "outputs": [],
   "source": [
    "file['裁判日期']=file['裁判日期'].fillna('0000')"
   ]
  },
  {
   "cell_type": "code",
   "execution_count": 8,
   "id": "45a2d364",
   "metadata": {},
   "outputs": [],
   "source": [
    "file['裁判日期']=file['裁判日期'].apply(str)"
   ]
  },
  {
   "cell_type": "code",
   "execution_count": 9,
   "id": "d9755b34",
   "metadata": {},
   "outputs": [],
   "source": [
    "q=[]\n",
    "for i, e in enumerate(file['裁判日期']):\n",
    "    q.append(e[:4])   "
   ]
  },
  {
   "cell_type": "code",
   "execution_count": 10,
   "id": "4f1be81a",
   "metadata": {},
   "outputs": [],
   "source": [
    "results_1 = list(map(int, q))"
   ]
  },
  {
   "cell_type": "code",
   "execution_count": 11,
   "id": "b6d564bb",
   "metadata": {},
   "outputs": [],
   "source": [
    "file['date_1']=results_1"
   ]
  },
  {
   "cell_type": "code",
   "execution_count": 12,
   "id": "18c024ba",
   "metadata": {},
   "outputs": [],
   "source": [
    "file['date']=results"
   ]
  },
  {
   "cell_type": "code",
   "execution_count": null,
   "id": "5ccbdc04",
   "metadata": {},
   "outputs": [],
   "source": [
    "file.案件现状.value_counts()"
   ]
  },
  {
   "cell_type": "code",
   "execution_count": null,
   "id": "ee6b7522",
   "metadata": {},
   "outputs": [],
   "source": [
    "file.案件阶段.value_counts()"
   ]
  },
  {
   "cell_type": "code",
   "execution_count": 15,
   "id": "ccc6f397",
   "metadata": {},
   "outputs": [
    {
     "data": {
      "text/plain": [
       "1    否\n",
       "2    否\n",
       "3    否\n",
       "4    否\n",
       "5    否\n",
       "Name: 是否结案, dtype: object"
      ]
     },
     "execution_count": 15,
     "metadata": {},
     "output_type": "execute_result"
    }
   ],
   "source": [
    "file['是否结案'].head()"
   ]
  },
  {
   "cell_type": "code",
   "execution_count": 14,
   "id": "1373804e",
   "metadata": {},
   "outputs": [
    {
     "name": "stdout",
     "output_type": "stream",
     "text": [
      "是 2019    3\n",
      "0       2\n",
      "2020    1\n",
      "2021    1\n",
      "2014    1\n",
      "Name: date_1, dtype: int64\n",
      "否 2020    4\n",
      "2019    3\n",
      "2014    1\n",
      "Name: date, dtype: int64\n"
     ]
    }
   ],
   "source": [
    "F=0\n",
    "T=0\n",
    "for i, e in enumerate(file['是否结案']):\n",
    "    if e =='否':\n",
    "        F=file.date.value_counts()\n",
    "    if e == '是':\n",
    "        T=file.date_1.value_counts()\n",
    "print('是',T)\n",
    "print('否',F)"
   ]
  },
  {
   "cell_type": "code",
   "execution_count": null,
   "id": "88f72dd1",
   "metadata": {},
   "outputs": [],
   "source": [
    "print(np.mean(results))"
   ]
  },
  {
   "cell_type": "code",
   "execution_count": null,
   "id": "183914b4",
   "metadata": {},
   "outputs": [],
   "source": [
    "file.案件类型.value_counts()"
   ]
  },
  {
   "cell_type": "code",
   "execution_count": null,
   "id": "048abffa",
   "metadata": {},
   "outputs": [],
   "source": [
    "c=pd.DataFrame(file.案件类型.value_counts())"
   ]
  },
  {
   "cell_type": "code",
   "execution_count": null,
   "id": "ac9845cc",
   "metadata": {},
   "outputs": [],
   "source": [
    "d=c.index"
   ]
  },
  {
   "cell_type": "code",
   "execution_count": null,
   "id": "96a2c20a",
   "metadata": {},
   "outputs": [],
   "source": [
    "b=file.案件类型.value_counts()"
   ]
  },
  {
   "cell_type": "code",
   "execution_count": null,
   "id": "15738738",
   "metadata": {},
   "outputs": [],
   "source": [
    "import matplotlib.pyplot as plotter"
   ]
  },
  {
   "cell_type": "code",
   "execution_count": null,
   "id": "8e74cac3",
   "metadata": {},
   "outputs": [],
   "source": [
    " plotter.rcParams['font.sans-serif'] = ['SimHei']"
   ]
  },
  {
   "cell_type": "markdown",
   "id": "0c331417",
   "metadata": {},
   "source": [
    "# v=['中钢集团洛阳耐火材料研究院有限公司',\n",
    "\n",
    "'中钢集团鞍山热能研究院有限公司',\n",
    "'中钢集团郑州金属制品研究院有限公司',\n",
    "\n",
    "'中钢集团安徽天源科技股份有限公司',\n",
    "'中钢集团耐火材料有限公司',\n",
    "'中国冶金矿业总公司'\n",
    "]"
   ]
  },
  {
   "cell_type": "markdown",
   "id": "b452f2c9",
   "metadata": {},
   "source": [
    "# z=[13,\n",
    "5,\n",
    "8,\n",
    "16,\n",
    "8,\n",
    "19\n",
    "]"
   ]
  },
  {
   "cell_type": "code",
   "execution_count": null,
   "id": "4d118f39",
   "metadata": {},
   "outputs": [],
   "source": [
    "pieLabels  =d\n",
    "# Population data\n",
    "populationShare     =b\n",
    "figureObject, axesObject = plotter.subplots()\n",
    "# Draw the pie chart\n",
    "axesObject.pie(populationShare,\n",
    "        labels=pieLabels,\n",
    "        autopct= '%1.2f' ,\n",
    "        startangle= 90,)\n",
    "# Aspect ratio - equal means pie is a circle\n",
    "axesObject.axis( 'equal' )\n",
    "plotter.show()"
   ]
  },
  {
   "cell_type": "code",
   "execution_count": 3,
   "id": "80fe4b8c",
   "metadata": {},
   "outputs": [],
   "source": [
    "x=['合同编号','合同签订日期','合同名称','合同类型及简要说明','对方单位','合同起止日期','品名','规格型号','数量','单价（元）','合同金额（元）','已支付（收取）金额',\n",
    "   '支付日期','签订（部门）人','合同履行情况','备注']"
   ]
  },
  {
   "cell_type": "code",
   "execution_count": 5,
   "id": "7f733ffa",
   "metadata": {},
   "outputs": [],
   "source": [
    "z=['NUM','DATE','NAME','TYPE','COMP','START','PRODUCT','SIZE','COUNT','PRICE','CONP','OWN','PAY','PAYDATE'\n",
    "   ,'PART','GOING','COMMENTS']"
   ]
  },
  {
   "cell_type": "code",
   "execution_count": 6,
   "id": "37f00fe6",
   "metadata": {},
   "outputs": [],
   "source": [
    "b=[]\n",
    "for i in z:\n",
    "    b.append(i.lower())"
   ]
  },
  {
   "cell_type": "code",
   "execution_count": 9,
   "id": "6e767a0d",
   "metadata": {},
   "outputs": [
    {
     "name": "stdout",
     "output_type": "stream",
     "text": [
      "['num', 'date', 'name', 'type', 'comp', 'start', 'product', 'size', 'count', 'price', 'conp', 'own', 'pay', 'paydate', 'part', 'going', 'comments']\n"
     ]
    }
   ],
   "source": [
    "print(b)"
   ]
  },
  {
   "cell_type": "code",
   "execution_count": 11,
   "id": "e7e8edcc",
   "metadata": {},
   "outputs": [
    {
     "name": "stdout",
     "output_type": "stream",
     "text": [
      "16 17\n"
     ]
    }
   ],
   "source": [
    "print(len(x),len(z))"
   ]
  },
  {
   "cell_type": "code",
   "execution_count": 26,
   "id": "67a14ba1",
   "metadata": {},
   "outputs": [],
   "source": [
    "xy=['合同编号','合同签订日期','合同名称','合同类型及简要说明','对方单位','合同起止日期','品名','规格型号','数量','单价（元）','合同金额（元）','已支付（收取）金额',\n",
    "   '支付日期','签订（部门）人','合同履行情况','备注']"
   ]
  },
  {
   "cell_type": "code",
   "execution_count": 27,
   "id": "89be5ce4",
   "metadata": {},
   "outputs": [],
   "source": [
    "for i in range (len(xy)):\n",
    "    xy[i]='<el-table-column prop=\"'+b[i]+'\" label=\"'+xy[i]+'\"></el-table-column>'"
   ]
  },
  {
   "cell_type": "code",
   "execution_count": 28,
   "id": "8348d2f0",
   "metadata": {},
   "outputs": [
    {
     "name": "stdout",
     "output_type": "stream",
     "text": [
      "<el-table-column prop=\"num\" label=\"合同编号\"></el-table-column>\n",
      "<el-table-column prop=\"date\" label=\"合同签订日期\"></el-table-column>\n",
      "<el-table-column prop=\"name\" label=\"合同名称\"></el-table-column>\n",
      "<el-table-column prop=\"type\" label=\"合同类型及简要说明\"></el-table-column>\n",
      "<el-table-column prop=\"comp\" label=\"对方单位\"></el-table-column>\n",
      "<el-table-column prop=\"start\" label=\"合同起止日期\"></el-table-column>\n",
      "<el-table-column prop=\"product\" label=\"品名\"></el-table-column>\n",
      "<el-table-column prop=\"size\" label=\"规格型号\"></el-table-column>\n",
      "<el-table-column prop=\"count\" label=\"数量\"></el-table-column>\n",
      "<el-table-column prop=\"price\" label=\"单价（元）\"></el-table-column>\n",
      "<el-table-column prop=\"conp\" label=\"合同金额（元）\"></el-table-column>\n",
      "<el-table-column prop=\"own\" label=\"已支付（收取）金额\"></el-table-column>\n",
      "<el-table-column prop=\"pay\" label=\"支付日期\"></el-table-column>\n",
      "<el-table-column prop=\"paydate\" label=\"签订（部门）人\"></el-table-column>\n",
      "<el-table-column prop=\"part\" label=\"合同履行情况\"></el-table-column>\n",
      "<el-table-column prop=\"going\" label=\"备注\"></el-table-column>\n"
     ]
    }
   ],
   "source": [
    "for i in xy:\n",
    "    print(i)"
   ]
  },
  {
   "cell_type": "code",
   "execution_count": 24,
   "id": "498e79f1",
   "metadata": {},
   "outputs": [],
   "source": [
    "for i in range (len(x)):\n",
    "    x[i]=\"{ label: '\"+x[i]+\"', key: '\"+z[i]+\"' },\""
   ]
  },
  {
   "cell_type": "code",
   "execution_count": 25,
   "id": "0cfff6e7",
   "metadata": {},
   "outputs": [
    {
     "name": "stdout",
     "output_type": "stream",
     "text": [
      "{ label: '合同编号', key: 'NUM' },\n",
      "{ label: '合同签订日期', key: 'DATE' },\n",
      "{ label: '合同名称', key: 'NAME' },\n",
      "{ label: '合同类型及简要说明', key: 'TYPE' },\n",
      "{ label: '对方单位', key: 'COMP' },\n",
      "{ label: '合同起止日期', key: 'START' },\n",
      "{ label: '品名', key: 'PRODUCT' },\n",
      "{ label: '规格型号', key: 'SIZE' },\n",
      "{ label: '数量', key: 'COUNT' },\n",
      "{ label: '单价（元）', key: 'PRICE' },\n",
      "{ label: '合同金额（元）', key: 'CONP' },\n",
      "{ label: '已支付（收取）金额', key: 'OWN' },\n",
      "{ label: '支付日期', key: 'PAY' },\n",
      "{ label: '签订（部门）人', key: 'PAYDATE' },\n",
      "{ label: '合同履行情况', key: 'PART' },\n",
      "{ label: '备注', key: 'GOING' },\n"
     ]
    }
   ],
   "source": [
    "for i in x:\n",
    "    print(i)"
   ]
  },
  {
   "cell_type": "code",
   "execution_count": 16,
   "id": "0e50a71d",
   "metadata": {},
   "outputs": [
    {
     "name": "stdout",
     "output_type": "stream",
     "text": [
      "{label :' 合同编号{label:' ',key:' NUM '},\n",
      "{label :' 合同签订日期{label:' ',key:' DATE '},\n",
      "{label :' 合同名称{label:' ',key:' NAME '},\n",
      "{label :' 合同类型及简要说明{label:' ',key:' TYPE '},\n",
      "{label :' 对方单位{label:' ',key:' COMP '},\n",
      "{label :' 合同起止日期{label:' ',key:' START '},\n",
      "{label :' 品名{label:' ',key:' PRODUCT '},\n",
      "{label :' 规格型号{label:' ',key:' SIZE '},\n",
      "{label :' 数量{label:' ',key:' COUNT '},\n",
      "{label :' 单价（元）{label:' ',key:' PRICE '},\n",
      "{label :' 合同金额（元）{label:' ',key:' CONP '},\n",
      "{label :' 已支付（收取）金额{label:' ',key:' OWN '},\n",
      "{label :' 支付日期{label:' ',key:' PAY '},\n",
      "{label :' 签订（部门）人{label:' ',key:' PAYDATE '},\n",
      "{label :' 合同履行情况{label:' ',key:' PART '},\n",
      "{label :' 备注{label:' ',key:' GOING '},\n",
      "{label :' {label:'{label:' ',key:' COMMENTS '},\n"
     ]
    },
    {
     "ename": "IndexError",
     "evalue": "list index out of range",
     "output_type": "error",
     "traceback": [
      "\u001b[1;31m---------------------------------------------------------------------------\u001b[0m",
      "\u001b[1;31mIndexError\u001b[0m                                Traceback (most recent call last)",
      "\u001b[1;32m<ipython-input-16-faec6c635a57>\u001b[0m in \u001b[0;36m<module>\u001b[1;34m\u001b[0m\n\u001b[0;32m      1\u001b[0m \u001b[1;32mfor\u001b[0m \u001b[0mi\u001b[0m \u001b[1;32min\u001b[0m \u001b[0mrange\u001b[0m \u001b[1;33m(\u001b[0m\u001b[0mlen\u001b[0m\u001b[1;33m(\u001b[0m\u001b[0mx\u001b[0m\u001b[1;33m)\u001b[0m\u001b[1;33m)\u001b[0m\u001b[1;33m:\u001b[0m\u001b[1;33m\u001b[0m\u001b[1;33m\u001b[0m\u001b[0m\n\u001b[1;32m----> 2\u001b[1;33m     \u001b[0mprint\u001b[0m\u001b[1;33m(\u001b[0m\u001b[1;34m\"{label :'\"\u001b[0m\u001b[1;33m,\u001b[0m\u001b[0mx\u001b[0m\u001b[1;33m[\u001b[0m\u001b[0mi\u001b[0m\u001b[1;33m]\u001b[0m\u001b[1;33m,\u001b[0m\u001b[1;34m\"',key:'\"\u001b[0m\u001b[1;33m,\u001b[0m\u001b[0mz\u001b[0m\u001b[1;33m[\u001b[0m\u001b[0mi\u001b[0m\u001b[1;33m]\u001b[0m\u001b[1;33m,\u001b[0m\u001b[1;34m\"'},\"\u001b[0m\u001b[1;33m)\u001b[0m\u001b[1;33m\u001b[0m\u001b[1;33m\u001b[0m\u001b[0m\n\u001b[0m",
      "\u001b[1;31mIndexError\u001b[0m: list index out of range"
     ]
    }
   ],
   "source": [
    "for i in range (len(x)):\n",
    "    print(\"{label :'\",x[i],\"',key:'\",z[i],\"'},\")"
   ]
  },
  {
   "cell_type": "code",
   "execution_count": 12,
   "id": "4d5c06b5",
   "metadata": {},
   "outputs": [
    {
     "name": "stdout",
     "output_type": "stream",
     "text": [
      "{label: 合同编号 ,key: NUM '},\n",
      "{label: 合同签订日期 ,key: DATE '},\n",
      "{label: 合同名称 ,key: NAME '},\n",
      "{label: 合同类型及简要说明 ,key: TYPE '},\n",
      "{label: 对方单位 ,key: COMP '},\n",
      "{label: 合同起止日期 ,key: START '},\n",
      "{label: 品名 ,key: PRODUCT '},\n",
      "{label: 规格型号 ,key: SIZE '},\n",
      "{label: 数量 ,key: COUNT '},\n",
      "{label: 单价（元） ,key: PRICE '},\n",
      "{label: 合同金额（元） ,key: CONP '},\n",
      "{label: 已支付（收取）金额 ,key: OWN '},\n",
      "{label: 支付日期 ,key: PAY '},\n",
      "{label: 签订（部门）人 ,key: PAYDATE '},\n",
      "{label: 合同履行情况 ,key: PART '},\n",
      "{label: 备注 ,key: GOING '},\n"
     ]
    }
   ],
   "source": [
    "for i in range (len(x)):\n",
    "    print(\"{label:\",x[i],\",key:\",z[i],\"'},\")"
   ]
  },
  {
   "cell_type": "code",
   "execution_count": 1,
   "id": "ece9c27e",
   "metadata": {},
   "outputs": [],
   "source": [
    "zzy=['合同编号','合同签订日期','合同名称','合同类型及简要说明','对方单位','合同起止日期','品名','规格型号','数量','单价（元）','合同金额（元）','已支付（收取）金额',\n",
    "   '支付日期','签订（部门）人','合同履行情况','备注']"
   ]
  },
  {
   "cell_type": "code",
   "execution_count": 32,
   "id": "1f25ebaf",
   "metadata": {},
   "outputs": [],
   "source": [
    "for i in range(len(zzy)):\n",
    "    zzy[i]=\"{ caption: '\"+zzy[i]+\"', type: 'string' },\"\n",
    "    \n"
   ]
  },
  {
   "cell_type": "code",
   "execution_count": 33,
   "id": "dd96c2da",
   "metadata": {},
   "outputs": [
    {
     "name": "stdout",
     "output_type": "stream",
     "text": [
      "{ caption: '合同编号', type: 'string' },\n",
      "{ caption: '合同签订日期', type: 'string' },\n",
      "{ caption: '合同名称', type: 'string' },\n",
      "{ caption: '合同类型及简要说明', type: 'string' },\n",
      "{ caption: '对方单位', type: 'string' },\n",
      "{ caption: '合同起止日期', type: 'string' },\n",
      "{ caption: '品名', type: 'string' },\n",
      "{ caption: '规格型号', type: 'string' },\n",
      "{ caption: '数量', type: 'string' },\n",
      "{ caption: '单价（元）', type: 'string' },\n",
      "{ caption: '合同金额（元）', type: 'string' },\n",
      "{ caption: '已支付（收取）金额', type: 'string' },\n",
      "{ caption: '支付日期', type: 'string' },\n",
      "{ caption: '签订（部门）人', type: 'string' },\n",
      "{ caption: '合同履行情况', type: 'string' },\n",
      "{ caption: '备注', type: 'string' },\n"
     ]
    }
   ],
   "source": [
    "for i in zzy:\n",
    "    print(i)"
   ]
  },
  {
   "cell_type": "code",
   "execution_count": 4,
   "id": "c9e468ec",
   "metadata": {},
   "outputs": [
    {
     "name": "stdout",
     "output_type": "stream",
     "text": [
      "16 16\n"
     ]
    }
   ],
   "source": [
    "print(len(zzy),len(x))"
   ]
  },
  {
   "cell_type": "code",
   "execution_count": 43,
   "id": "372ca580",
   "metadata": {},
   "outputs": [],
   "source": [
    "zoo=['合同编号','合同签订日期','合同名称','合同类型及简要说明','对方单位','合同起止日期','品名','规格型号','数量','单价（元）','合同金额（元）','已支付（收取）金额',\n",
    "   '支付日期','签订（部门）人','合同履行情况','备注']"
   ]
  },
  {
   "cell_type": "code",
   "execution_count": 61,
   "id": "2cb247e7",
   "metadata": {},
   "outputs": [],
   "source": [
    "for i in range(len(zzy)):\n",
    "    zoo[i]=b[i]+\" TEXT,\""
   ]
  },
  {
   "cell_type": "code",
   "execution_count": 62,
   "id": "bd0ff7f0",
   "metadata": {},
   "outputs": [
    {
     "name": "stdout",
     "output_type": "stream",
     "text": [
      "num TEXT,\n",
      "date TEXT,\n",
      "name TEXT,\n",
      "type TEXT,\n",
      "comp TEXT,\n",
      "start TEXT,\n",
      "product TEXT,\n",
      "size TEXT,\n",
      "count TEXT,\n",
      "price TEXT,\n",
      "conp TEXT,\n",
      "own TEXT,\n",
      "pay TEXT,\n",
      "paydate TEXT,\n",
      "part TEXT,\n",
      "going TEXT,\n"
     ]
    }
   ],
   "source": [
    "for i in zoo:\n",
    "    print(i)"
   ]
  },
  {
   "cell_type": "code",
   "execution_count": 49,
   "id": "6a0099af",
   "metadata": {},
   "outputs": [
    {
     "name": "stdout",
     "output_type": "stream",
     "text": [
      "num\n",
      "date\n",
      "name\n",
      "type\n",
      "comp\n",
      "start\n",
      "product\n",
      "size\n",
      "count\n",
      "price\n",
      "conp\n",
      "own\n",
      "pay\n",
      "paydate\n",
      "part\n",
      "going\n",
      "comments\n"
     ]
    }
   ],
   "source": [
    "name TEXT, jobNo TEXT, id TEXT"
   ]
  }
 ],
 "metadata": {
  "kernelspec": {
   "display_name": "Python 3",
   "language": "python",
   "name": "python3"
  },
  "language_info": {
   "codemirror_mode": {
    "name": "ipython",
    "version": 3
   },
   "file_extension": ".py",
   "mimetype": "text/x-python",
   "name": "python",
   "nbconvert_exporter": "python",
   "pygments_lexer": "ipython3",
   "version": "3.8.8"
  }
 },
 "nbformat": 4,
 "nbformat_minor": 5
}
